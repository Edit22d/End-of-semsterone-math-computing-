{
 "cells": [
  {
   "cell_type": "markdown",
   "id": "5938aecc-2e65-49a4-a540-f6f596129763",
   "metadata": {},
   "source": [
    "## qn.5\n"
   ]
  },
  {
   "cell_type": "code",
   "execution_count": 1,
   "id": "501dc53e-e233-4c93-b936-21477b057e62",
   "metadata": {},
   "outputs": [],
   "source": [
    "import numpy as np"
   ]
  },
  {
   "cell_type": "code",
   "execution_count": 2,
   "id": "68049f61-bb61-4b6a-9bdb-e00adcc2ce41",
   "metadata": {},
   "outputs": [],
   "source": [
    "import numpy as np"
   ]
  },
  {
   "cell_type": "code",
   "execution_count": 3,
   "id": "ab221d52-4333-46b8-8ebe-9ca57c4f7672",
   "metadata": {},
   "outputs": [
    {
     "name": "stdout",
     "output_type": "stream",
     "text": [
      "[[1.  0.2 0.5]\n",
      " [0.2 1.  0.8]\n",
      " [0.5 0.8 1. ]]\n"
     ]
    }
   ],
   "source": [
    "x = np.array([[1,0.2,0.5],[0.2,1,0.8],[0.5,0.8,1]])\n",
    "print(x)"
   ]
  },
  {
   "cell_type": "markdown",
   "id": "b8ada531-a871-4579-8c39-565a45bfebbb",
   "metadata": {},
   "source": [
    "## i) Inversion of a matrix"
   ]
  },
  {
   "cell_type": "code",
   "execution_count": 4,
   "id": "c18730c8-16c3-4b03-b6bf-b63c045c5b65",
   "metadata": {},
   "outputs": [
    {
     "name": "stdout",
     "output_type": "stream",
     "text": [
      "[[1.  0.2 0.5]\n",
      " [0.2 1.  0.8]\n",
      " [0.5 0.8 1. ]]\n"
     ]
    }
   ],
   "source": [
    "import numpy as np\n",
    "x= np.array([[1,0.2,0.5],[0.2,1,0.8],[0.5,0.8,1]])\n",
    "print(x)"
   ]
  },
  {
   "cell_type": "code",
   "execution_count": 5,
   "id": "508b1d94-6114-47b8-9a5a-1648aa395d54",
   "metadata": {},
   "outputs": [
    {
     "name": "stdout",
     "output_type": "stream",
     "text": [
      "[[1.  0.2 0.5]\n",
      " [0.2 1.  0.8]\n",
      " [0.5 0.8 1. ]]\n"
     ]
    }
   ],
   "source": [
    "x_transpose = np.transpose(x)\n",
    "print(x_transpose)"
   ]
  },
  {
   "cell_type": "markdown",
   "id": "927614ca-31d8-4fce-b244-0bb7d2a40ad0",
   "metadata": {},
   "source": [
    "## ii) determinants of a matrix"
   ]
  },
  {
   "cell_type": "code",
   "execution_count": 6,
   "id": "3b13544c-0cfa-4705-89a0-7a69e062229e",
   "metadata": {},
   "outputs": [
    {
     "name": "stdout",
     "output_type": "stream",
     "text": [
      "0.2299999999999999\n"
     ]
    }
   ],
   "source": [
    "determinant = np.linalg.det(x)\n",
    "print(determinant)"
   ]
  },
  {
   "cell_type": "markdown",
   "id": "d538b5ae-a4c0-4f33-a7e2-01769a823487",
   "metadata": {},
   "source": [
    "## iii) decomposing of a matrix"
   ]
  },
  {
   "cell_type": "code",
   "execution_count": 7,
   "id": "c6cc20d1-b81c-4ad4-95d4-44f6a4b1d9b4",
   "metadata": {},
   "outputs": [
    {
     "name": "stdout",
     "output_type": "stream",
     "text": [
      "SVDResult(U=array([[-0.43721717,  0.85359707, -0.28321933],\n",
      "       [-0.59931898, -0.51133314, -0.61591816],\n",
      "       [-0.67056536, -0.09955128,  0.73514055]]), S=array([2.04100779, 0.82188052, 0.13711169]), Vh=array([[-0.43721717, -0.59931898, -0.67056536],\n",
      "       [ 0.85359707, -0.51133314, -0.09955128],\n",
      "       [-0.28321933, -0.61591816,  0.73514055]]))\n"
     ]
    }
   ],
   "source": [
    "x_decompose = np.linalg.svd(x)\n",
    "print(x_decompose)"
   ]
  },
  {
   "cell_type": "markdown",
   "id": "88045142-7067-47b5-b9ea-57e7ba83f9c8",
   "metadata": {},
   "source": [
    "## iv) transforms of a matrix"
   ]
  },
  {
   "cell_type": "code",
   "execution_count": 8,
   "id": "144aeb8d-1d99-4a6c-9259-d004de33289c",
   "metadata": {},
   "outputs": [
    {
     "name": "stdout",
     "output_type": "stream",
     "text": [
      "(3, 3)\n"
     ]
    }
   ],
   "source": [
    "x_transform = np.shape(x)\n",
    "print(x_transform)"
   ]
  },
  {
   "cell_type": "code",
   "execution_count": null,
   "id": "cc886241-8bf2-4323-a747-bf723944097c",
   "metadata": {},
   "outputs": [],
   "source": []
  },
  {
   "cell_type": "code",
   "execution_count": null,
   "id": "fb026ab3-3bc1-4d7c-97b2-a331e988904e",
   "metadata": {},
   "outputs": [],
   "source": []
  },
  {
   "cell_type": "code",
   "execution_count": null,
   "id": "ba789fb9-cd3a-450f-bdd1-0c23f304c460",
   "metadata": {},
   "outputs": [],
   "source": []
  }
 ],
 "metadata": {
  "kernelspec": {
   "display_name": "Python 3 (ipykernel)",
   "language": "python",
   "name": "python3"
  },
  "language_info": {
   "codemirror_mode": {
    "name": "ipython",
    "version": 3
   },
   "file_extension": ".py",
   "mimetype": "text/x-python",
   "name": "python",
   "nbconvert_exporter": "python",
   "pygments_lexer": "ipython3",
   "version": "3.12.6"
  }
 },
 "nbformat": 4,
 "nbformat_minor": 5
}
